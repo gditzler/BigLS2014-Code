{
 "metadata": {
  "name": "",
  "signature": "sha256:bc8141f764066dc10df6a5b33fda795a110476052e5542a5aa806323d07a2a0f"
 },
 "nbformat": 3,
 "nbformat_minor": 0,
 "worksheets": [
  {
   "cells": [
    {
     "cell_type": "markdown",
     "metadata": {},
     "source": [
      "# $l_1$ & Normalizations"
     ]
    },
    {
     "cell_type": "code",
     "collapsed": false,
     "input": [],
     "language": "python",
     "metadata": {},
     "outputs": []
    }
   ],
   "metadata": {}
  }
 ]
}