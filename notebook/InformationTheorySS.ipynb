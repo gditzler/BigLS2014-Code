{
 "metadata": {
  "name": "",
  "signature": "sha256:65f038dd5dfc54cf741c88684e09575bcf72a9e40e3f9969257b41517238b6e4"
 },
 "nbformat": 3,
 "nbformat_minor": 0,
 "worksheets": [
  {
   "cells": [
    {
     "cell_type": "markdown",
     "metadata": {},
     "source": [
      "# About"
     ]
    },
    {
     "cell_type": "code",
     "collapsed": false,
     "input": [
      "import sys\n",
      "sys.path.append(\"../src/\")\n",
      "import numpy as np \n",
      "import bmu\n",
      "import utils\n",
      "import matplotlib.pylab as plt\n",
      "import mi\n",
      "import feast\n",
      "import time "
     ],
     "language": "python",
     "metadata": {},
     "outputs": [],
     "prompt_number": 2
    },
    {
     "cell_type": "code",
     "collapsed": false,
     "input": [
      "tag = \"caporaso-gut\"\n",
      "biom_fp = \"../data/american-gut-mf.biom\"\n",
      "map_fp = \"../data/american-gut-mf.txt\"\n",
      "n_select = 25\n",
      "\n",
      "data, samples, features = bmu.load_biom(biom_fp)\n",
      "map_data = bmu.load_map(map_fp)\n",
      "labels, label_map = utils.label_formatting(map_data, samples, \"SEX\", signed=True)\n",
      "samples = np.array(samples)\n",
      "features = np.array(features)"
     ],
     "language": "python",
     "metadata": {},
     "outputs": []
    }
   ],
   "metadata": {}
  }
 ]
}